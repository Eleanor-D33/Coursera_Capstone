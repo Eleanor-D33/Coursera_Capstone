{
 "cells": [
  {
   "cell_type": "markdown",
   "metadata": {},
   "source": [
    "Project Where to play?"
   ]
  },
  {
   "cell_type": "markdown",
   "metadata": {},
   "source": [
    "Introduction/Business Problem\n",
    "\n",
    "A client wants to open a Pancakes restuarant in Amsterdam and asked to help answering the question, 'Where to open the new restaurant?'. The target costumers of the restaurant are mainly tourists and it is therefore important to open the restuarant at a place where a lot of people pass.\n",
    "Data\n",
    "\n",
    "To find these popular places, the explore endpoint of the Foursquare API can be used. The data that is eventually used contains the most popular places in Amsterdam including the category of the venue and the popularity ranking."
   ]
  },
  {
   "cell_type": "markdown",
   "metadata": {},
   "source": [
    "Excellent. The problem is clearly explained and I totally understand the background related to the problem and why it is important to solve. Also, the target audience is clearly stated."
   ]
  },
  {
   "cell_type": "code",
   "execution_count": null,
   "metadata": {},
   "outputs": [],
   "source": []
  }
 ],
 "metadata": {
  "kernelspec": {
   "display_name": "Python 3",
   "language": "python",
   "name": "python3"
  },
  "language_info": {
   "codemirror_mode": {
    "name": "ipython",
    "version": 3
   },
   "file_extension": ".py",
   "mimetype": "text/x-python",
   "name": "python",
   "nbconvert_exporter": "python",
   "pygments_lexer": "ipython3",
   "version": "3.7.4"
  }
 },
 "nbformat": 4,
 "nbformat_minor": 2
}
